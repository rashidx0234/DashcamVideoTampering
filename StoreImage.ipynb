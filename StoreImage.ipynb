{
 "cells": [
  {
   "cell_type": "code",
   "execution_count": 1,
   "id": "920e5807",
   "metadata": {},
   "outputs": [],
   "source": [
    "import cv2\n",
    "import os\n",
    "import random\n",
    "\n",
    "def extract_random_frames(video_path, output_dir, frame_size):\n",
    "    # Create the output directory if it doesn't exist\n",
    "    os.makedirs(output_dir, exist_ok=True)\n",
    "    \n",
    "    # Load the video\n",
    "    cap = cv2.VideoCapture(video_path)\n",
    "    \n",
    "    # Get the total number of frames in the video\n",
    "    num_frames = int(cap.get(cv2.CAP_PROP_FRAME_COUNT))\n",
    "    \n",
    "    # Select 50 random frames to extract\n",
    "    random_frames = random.sample(range(num_frames), 50)\n",
    "    \n",
    "    # Extract and resize each random frame\n",
    "    for i, frame_idx in enumerate(random_frames):\n",
    "        \n",
    "        # Set the frame index\n",
    "        cap.set(cv2.CAP_PROP_POS_FRAMES, frame_idx)\n",
    "        \n",
    "        # Read the frame\n",
    "        ret, frame = cap.read()\n",
    "        \n",
    "        # Resize the frame to the desired size\n",
    "        frame = cv2.resize(frame, frame_size)\n",
    "        \n",
    "        # Save the frame as a JPEG file in the output directory\n",
    "        frame_path = os.path.join(output_dir, f\"{i+1}.jpg\")\n",
    "        cv2.imwrite(frame_path, frame)\n",
    "        \n",
    "    # Release the video capture object\n",
    "    cap.release()\n"
   ]
  },
  {
   "cell_type": "code",
   "execution_count": 9,
   "id": "6476ee6b",
   "metadata": {},
   "outputs": [],
   "source": [
    "video_path = \"C:/Users/hpvic/Python/VideoForgery/EditedVideos/VideoTampered8.mp4\"\n",
    "output_dir = \"C:/Users/hpvic/Python/Images/Tampered\"\n",
    "frame_size = (1920, 1080)\n",
    "extract_random_frames(video_path, output_dir, frame_size)"
   ]
  },
  {
   "cell_type": "code",
   "execution_count": null,
   "id": "3c95ed66",
   "metadata": {},
   "outputs": [],
   "source": []
  }
 ],
 "metadata": {
  "kernelspec": {
   "display_name": "Python 3 (ipykernel)",
   "language": "python",
   "name": "python3"
  },
  "language_info": {
   "codemirror_mode": {
    "name": "ipython",
    "version": 3
   },
   "file_extension": ".py",
   "mimetype": "text/x-python",
   "name": "python",
   "nbconvert_exporter": "python",
   "pygments_lexer": "ipython3",
   "version": "3.9.13"
  }
 },
 "nbformat": 4,
 "nbformat_minor": 5
}
